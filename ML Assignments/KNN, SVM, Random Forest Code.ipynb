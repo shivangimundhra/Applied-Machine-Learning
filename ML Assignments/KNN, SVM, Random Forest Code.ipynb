{
  "cells": [
    {
      "cell_type": "markdown",
      "metadata": {
        "id": "VC8cC7F54rQ5"
      },
      "source": [
        "# HW7: kNN, SVM, and Random Forest for handwriting recognition\n",
        "## IST 707 Applied Machine Learning\n",
        "### Shivangi Mundhra | SUID - 842548148"
      ]
    },
    {
      "cell_type": "code",
      "execution_count": 2,
      "metadata": {
        "colab": {
          "base_uri": "https://localhost:8080/"
        },
        "id": "SaMzN4qT4eBw",
        "outputId": "6919b516-ae38-41f5-f784-9a2c53b264fd"
      },
      "outputs": [
        {
          "output_type": "stream",
          "name": "stdout",
          "text": [
            "Mounted at /content/drive\n"
          ]
        }
      ],
      "source": [
        "# mounting Google Drive\n",
        "from google.colab import drive\n",
        "drive.mount('/content/drive')"
      ]
    },
    {
      "cell_type": "markdown",
      "metadata": {
        "id": "TTKYRrVM6C7D"
      },
      "source": [
        "### Read in the data"
      ]
    },
    {
      "cell_type": "code",
      "execution_count": 3,
      "metadata": {
        "id": "vbh07imw6J7u"
      },
      "outputs": [],
      "source": [
        "import pandas as p\n",
        "import numpy as np\n",
        "train = p.read_csv(\"/content/drive/MyDrive/Colab Notebooks/digit-train.csv\")\n",
        "y_train = train['label'].values\n",
        "y_trainLabels = train.iloc[:,:1]\n",
        "X_train = train.iloc[:,1:784]\n",
        "test = p.read_csv(\"/content/drive/MyDrive/Colab Notebooks/digit-test.csv\")\n",
        "y_test = test['label'].values\n",
        "X_test = test.iloc[:,1:784]\n",
        "y_testLabels = test.iloc[:,:1]"
      ]
    },
    {
      "cell_type": "code",
      "execution_count": 4,
      "metadata": {
        "colab": {
          "base_uri": "https://localhost:8080/"
        },
        "id": "6Fg0YGw488RP",
        "outputId": "9993c6ff-78a1-4fd5-af22-83f754df5f44"
      },
      "outputs": [
        {
          "output_type": "execute_result",
          "data": {
            "text/plain": [
              "4198"
            ]
          },
          "metadata": {},
          "execution_count": 4
        }
      ],
      "source": [
        "y_train.size"
      ]
    },
    {
      "cell_type": "code",
      "execution_count": 5,
      "metadata": {
        "colab": {
          "base_uri": "https://localhost:8080/"
        },
        "id": "Amyz9Azn9c21",
        "outputId": "16a5a29a-7a09-4568-bf77-b3f9f5904cbe"
      },
      "outputs": [
        {
          "output_type": "execute_result",
          "data": {
            "text/plain": [
              "(4198, 783)"
            ]
          },
          "metadata": {},
          "execution_count": 5
        }
      ],
      "source": [
        "X_train.shape"
      ]
    },
    {
      "cell_type": "code",
      "execution_count": 6,
      "metadata": {
        "colab": {
          "base_uri": "https://localhost:8080/"
        },
        "id": "pDB0t8ma-DWy",
        "outputId": "e20023e1-42e4-4444-e361-0b9d3b29218a"
      },
      "outputs": [
        {
          "output_type": "stream",
          "name": "stdout",
          "text": [
            "[[  0   1   2   3   4   5   6   7   8   9]\n",
            " [418 471 413 425 420 390 416 436 438 371]]\n"
          ]
        }
      ],
      "source": [
        "# Check how many training examples in each category\n",
        "# this is important to see whether the data set is balanced or skewed\n",
        "\n",
        "unique, counts = np.unique(y_train, return_counts = True)\n",
        "print(np.asarray((unique, counts)))"
      ]
    },
    {
      "cell_type": "code",
      "execution_count": 7,
      "metadata": {
        "colab": {
          "base_uri": "https://localhost:8080/"
        },
        "id": "gPNVxJUZ-d-7",
        "outputId": "b1f1c0df-be81-4736-8807-bc6adaba5efc"
      },
      "outputs": [
        {
          "output_type": "stream",
          "name": "stdout",
          "text": [
            "[[  0   1   2   3   4   5   6   7   8   9]\n",
            " [414 478 420 446 404 388 404 465 393 386]]\n"
          ]
        }
      ],
      "source": [
        "unique, counts = np.unique(y_test, return_counts = True)\n",
        "print(np.asarray((unique, counts)))"
      ]
    },
    {
      "cell_type": "markdown",
      "metadata": {
        "id": "0ku3-xCr5qAT"
      },
      "source": [
        "## SVM"
      ]
    },
    {
      "cell_type": "markdown",
      "metadata": {
        "id": "kbz0iP8d-wdS"
      },
      "source": [
        "### Train a Linear SVC classifier"
      ]
    },
    {
      "cell_type": "code",
      "execution_count": 8,
      "metadata": {
        "colab": {
          "base_uri": "https://localhost:8080/"
        },
        "id": "0M9PCxeM-ny8",
        "outputId": "b65183cf-d447-4b84-e43f-36152c7df2a2"
      },
      "outputs": [
        {
          "output_type": "stream",
          "name": "stderr",
          "text": [
            "/usr/local/lib/python3.7/dist-packages/sklearn/svm/_base.py:1208: ConvergenceWarning: Liblinear failed to converge, increase the number of iterations.\n",
            "  ConvergenceWarning,\n"
          ]
        },
        {
          "output_type": "execute_result",
          "data": {
            "text/plain": [
              "LinearSVC(C=1)"
            ]
          },
          "metadata": {},
          "execution_count": 8
        }
      ],
      "source": [
        "# import the LinearSVC module\n",
        "from sklearn.svm import LinearSVC\n",
        "from sklearn.svm import SVC\n",
        "\n",
        "# initialize the LinearSVC model\n",
        "linear_svm_clf = LinearSVC(C = 1)\n",
        "\n",
        "# use the training data to train the model\n",
        "linear_svm_clf.fit(X_train, y_train)"
      ]
    },
    {
      "cell_type": "code",
      "execution_count": 9,
      "metadata": {
        "colab": {
          "base_uri": "https://localhost:8080/"
        },
        "id": "DJIHyl31_ZfG",
        "outputId": "40e062d7-5c76-440d-956f-10d340a9e946"
      },
      "outputs": [
        {
          "output_type": "stream",
          "name": "stdout",
          "text": [
            "0.8544545021438781\n"
          ]
        }
      ],
      "source": [
        "# get the accuracy of this linear SVM classifier\n",
        "linear_svm_clf_accuracy = linear_svm_clf.score(X_test, y_test)\n",
        "print(linear_svm_clf_accuracy)"
      ]
    },
    {
      "cell_type": "markdown",
      "metadata": {
        "id": "ogsXTgjvECC_"
      },
      "source": [
        "The linear SVM model is only about 85.30% accurate"
      ]
    },
    {
      "cell_type": "code",
      "source": [
        "# print confusion matrix and classification report\n",
        "\n",
        "from sklearn.metrics import confusion_matrix\n",
        "y_pred_linear_svm = linear_svm_clf.predict(X_test)\n",
        "cm_linear_svm = confusion_matrix(y_test, y_pred_linear_svm)\n",
        "print(cm_linear_svm)\n",
        "print()\n",
        "\n",
        "from sklearn.metrics import classification_report\n",
        "# target_names = ['0', '1', '2', '3']\n",
        "print(classification_report(y_test, y_pred_linear_svm))"
      ],
      "metadata": {
        "colab": {
          "base_uri": "https://localhost:8080/"
        },
        "id": "hlUNOzx3Et91",
        "outputId": "1e20b391-9715-45cc-d8ed-f70dc7a5ad60"
      },
      "execution_count": 10,
      "outputs": [
        {
          "output_type": "stream",
          "name": "stdout",
          "text": [
            "[[390   0   4   4   1   7   3   0   5   0]\n",
            " [  0 462   5   7   0   0   0   0   4   0]\n",
            " [  5   5 359  20   3   2   7   2  13   4]\n",
            " [  5   3  17 353   1  22  10   7  21   7]\n",
            " [  0   2   3   2 352   2   2   5   3  33]\n",
            " [  8   4   7  29  14 291  11   2  14   8]\n",
            " [  6   0   7   0   4  10 370   1   4   2]\n",
            " [  2   2   6   7   6   2   1 408   3  28]\n",
            " [  7   9  13  25   7  19   7   4 296   6]\n",
            " [  3   2   2  12  24   5   1  22   9 306]]\n",
            "\n",
            "              precision    recall  f1-score   support\n",
            "\n",
            "           0       0.92      0.94      0.93       414\n",
            "           1       0.94      0.97      0.96       478\n",
            "           2       0.85      0.85      0.85       420\n",
            "           3       0.77      0.79      0.78       446\n",
            "           4       0.85      0.87      0.86       404\n",
            "           5       0.81      0.75      0.78       388\n",
            "           6       0.90      0.92      0.91       404\n",
            "           7       0.90      0.88      0.89       465\n",
            "           8       0.80      0.75      0.77       393\n",
            "           9       0.78      0.79      0.78       386\n",
            "\n",
            "    accuracy                           0.85      4198\n",
            "   macro avg       0.85      0.85      0.85      4198\n",
            "weighted avg       0.85      0.85      0.85      4198\n",
            "\n"
          ]
        }
      ]
    },
    {
      "cell_type": "code",
      "source": [
        "# y_pred_linear_svm\n",
        "linearSvmPred = p.DataFrame({\"y_test\" : y_test, \"y_pred_linear_svm\" : y_pred_linear_svm})\n",
        "linearSvmPred.to_csv(\"linearSvmPred.csv\", index = False)"
      ],
      "metadata": {
        "id": "07JH9GxbSXVw"
      },
      "execution_count": 12,
      "outputs": []
    },
    {
      "cell_type": "markdown",
      "metadata": {
        "id": "bZTIki2BEK0G"
      },
      "source": [
        "### Train a base SVC classifier"
      ]
    },
    {
      "cell_type": "code",
      "execution_count": 14,
      "metadata": {
        "colab": {
          "base_uri": "https://localhost:8080/"
        },
        "id": "o8FaSA9hBWox",
        "outputId": "363ca91f-0698-436c-98b1-010e29f90dbc"
      },
      "outputs": [
        {
          "output_type": "stream",
          "name": "stdout",
          "text": [
            "0.9530728918532635\n"
          ]
        }
      ],
      "source": [
        "# initialize the SVC model\n",
        "svm_clf = SVC()\n",
        "\n",
        "# use training data to train the model\n",
        "svm_clf.fit(X_train, y_train)\n",
        "\n",
        "# get the accuracy of the base SVM classifier\n",
        "svm_clf_accuracy = svm_clf.score(X_test, y_test)\n",
        "print(svm_clf_accuracy)"
      ]
    },
    {
      "cell_type": "markdown",
      "metadata": {
        "id": "My1l2X83Esvf"
      },
      "source": [
        "The base SVM model has 95.31% accuracy"
      ]
    },
    {
      "cell_type": "code",
      "source": [
        "# print confusion matrix and classification report\n",
        "\n",
        "y_pred_svm = svm_clf.predict(X_test)\n",
        "cm_svm = confusion_matrix(y_test, y_pred_svm)\n",
        "print(cm_svm)\n",
        "print()\n",
        "\n",
        "print(classification_report(y_test, y_pred_svm))"
      ],
      "metadata": {
        "colab": {
          "base_uri": "https://localhost:8080/"
        },
        "id": "Hf0Qd9b6FWpb",
        "outputId": "98a14606-3f19-4b6f-a6af-e2c4a5be8f9a"
      },
      "execution_count": 15,
      "outputs": [
        {
          "output_type": "stream",
          "name": "stdout",
          "text": [
            "[[408   0   1   0   1   0   2   0   2   0]\n",
            " [  0 469   5   2   0   1   0   0   1   0]\n",
            " [  1   2 403   1   5   1   3   3   0   1]\n",
            " [  2   3   6 415   0   7   1   5   5   2]\n",
            " [  1   1   2   0 385   0   0   0   1  14]\n",
            " [  0   2   0   7   1 372   4   0   1   1]\n",
            " [  3   0   1   0   2   5 392   0   1   0]\n",
            " [  0   4   2   0   9   0   0 438   0  12]\n",
            " [  1   5   3   7   2   9   1   0 365   0]\n",
            " [  3   2   0   6  10   2   0   8   1 354]]\n",
            "\n",
            "              precision    recall  f1-score   support\n",
            "\n",
            "           0       0.97      0.99      0.98       414\n",
            "           1       0.96      0.98      0.97       478\n",
            "           2       0.95      0.96      0.96       420\n",
            "           3       0.95      0.93      0.94       446\n",
            "           4       0.93      0.95      0.94       404\n",
            "           5       0.94      0.96      0.95       388\n",
            "           6       0.97      0.97      0.97       404\n",
            "           7       0.96      0.94      0.95       465\n",
            "           8       0.97      0.93      0.95       393\n",
            "           9       0.92      0.92      0.92       386\n",
            "\n",
            "    accuracy                           0.95      4198\n",
            "   macro avg       0.95      0.95      0.95      4198\n",
            "weighted avg       0.95      0.95      0.95      4198\n",
            "\n"
          ]
        }
      ]
    },
    {
      "cell_type": "code",
      "source": [
        "svmPred = p.DataFrame({\"y_test\" : y_test, \"y_pred_svm\" : y_pred_svm})\n",
        "svmPred.to_csv(\"svmPred.csv\", index = False)"
      ],
      "metadata": {
        "id": "_DZOQbDeUPou"
      },
      "execution_count": 16,
      "outputs": []
    },
    {
      "cell_type": "markdown",
      "metadata": {
        "id": "le_20It3Ey11"
      },
      "source": [
        "### Tuning the SVM model"
      ]
    },
    {
      "cell_type": "code",
      "execution_count": 12,
      "metadata": {
        "id": "olnGG_BUDiaR"
      },
      "outputs": [],
      "source": [
        "from sklearn.model_selection import GridSearchCV"
      ]
    },
    {
      "cell_type": "code",
      "execution_count": null,
      "metadata": {
        "colab": {
          "base_uri": "https://localhost:8080/"
        },
        "id": "KLZ6nalfCiiB",
        "outputId": "0c35218b-403a-414f-8708-697ba5542fc5"
      },
      "outputs": [
        {
          "name": "stdout",
          "output_type": "stream",
          "text": [
            "GridSearchCV(estimator=SVC(),\n",
            "             param_grid={'C': [0.001, 0.01, 0.1, 1, 10, 100],\n",
            "                         'gamma': [0.0001, 0.001, 0.01, 0.1],\n",
            "                         'kernel': ['linear', 'rbf', 'poly']})\n"
          ]
        }
      ],
      "source": [
        "# Create a dictionary of possible parameters\n",
        "params_grid = {'C': [0.001, 0.01, 0.1, 1, 10, 100], 'gamma': [0.0001, 0.001, 0.01, 0.1], 'kernel':['linear','rbf', 'poly'] }\n",
        "# Create the GridSearchCV object\n",
        "grid_clf = GridSearchCV(SVC(), params_grid)\n",
        "print(grid_clf)"
      ]
    },
    {
      "cell_type": "code",
      "execution_count": null,
      "metadata": {
        "colab": {
          "base_uri": "https://localhost:8080/"
        },
        "id": "4vCEvjzbDEkH",
        "outputId": "964f594f-68e1-4018-ef90-cedc86f6866c"
      },
      "outputs": [
        {
          "name": "stdout",
          "output_type": "stream",
          "text": [
            "{'C': 0.001, 'gamma': 0.0001, 'kernel': 'poly'}\n"
          ]
        }
      ],
      "source": [
        "# fit the data with the best possible parameters\n",
        "grid_clf = grid_clf.fit(X_train, y_train)\n",
        "# print the best estimator with it's parameters\n",
        "print(grid_clf.best_params_)"
      ]
    },
    {
      "cell_type": "code",
      "execution_count": 17,
      "metadata": {
        "colab": {
          "base_uri": "https://localhost:8080/"
        },
        "id": "3d9SCETuDRLL",
        "outputId": "94f96bbd-c3c9-4d6f-fd24-1be9d258255e"
      },
      "outputs": [
        {
          "output_type": "stream",
          "name": "stdout",
          "text": [
            "0.9437827536922344\n"
          ]
        }
      ],
      "source": [
        "tuned_svm_clf = SVC(C = 0.001, gamma = 0.0001, kernel = 'poly')\n",
        "tuned_svm_clf.fit(X_train, y_train)\n",
        "tuned_clf_accuracy = tuned_svm_clf.score(X_test, y_test)\n",
        "print(tuned_clf_accuracy)"
      ]
    },
    {
      "cell_type": "code",
      "source": [
        "# print confusion matrix and classification report\n",
        "\n",
        "y_pred_tuned_svm = tuned_svm_clf.predict(X_test)\n",
        "cm_tuned_svm = confusion_matrix(y_test, y_pred_tuned_svm)\n",
        "print(cm_tuned_svm)\n",
        "print()\n",
        "\n",
        "print(classification_report(y_test, y_pred_tuned_svm))"
      ],
      "metadata": {
        "colab": {
          "base_uri": "https://localhost:8080/"
        },
        "id": "FA56BT1zasJR",
        "outputId": "c48f6eda-3a3f-4cbf-8a5c-d2a805542ea9"
      },
      "execution_count": 18,
      "outputs": [
        {
          "output_type": "stream",
          "name": "stdout",
          "text": [
            "[[402   2   0   1   1   3   4   0   1   0]\n",
            " [  0 472   3   1   0   0   0   1   1   0]\n",
            " [  6   8 391   3   2   1   3   2   4   0]\n",
            " [  5  11   5 409   0   5   1   3   6   1]\n",
            " [  0   2   1   0 388   0   1   0   0  12]\n",
            " [  0   4   1   8   0 367   4   0   3   1]\n",
            " [  9   2   1   0   3   2 386   0   1   0]\n",
            " [  1   6   1   0   9   0   0 442   0   6]\n",
            " [  4   8   2   7   1   9   3   0 357   2]\n",
            " [  4   5   0   6   8   1   0  12   2 348]]\n",
            "\n",
            "              precision    recall  f1-score   support\n",
            "\n",
            "           0       0.93      0.97      0.95       414\n",
            "           1       0.91      0.99      0.95       478\n",
            "           2       0.97      0.93      0.95       420\n",
            "           3       0.94      0.92      0.93       446\n",
            "           4       0.94      0.96      0.95       404\n",
            "           5       0.95      0.95      0.95       388\n",
            "           6       0.96      0.96      0.96       404\n",
            "           7       0.96      0.95      0.96       465\n",
            "           8       0.95      0.91      0.93       393\n",
            "           9       0.94      0.90      0.92       386\n",
            "\n",
            "    accuracy                           0.94      4198\n",
            "   macro avg       0.94      0.94      0.94      4198\n",
            "weighted avg       0.94      0.94      0.94      4198\n",
            "\n"
          ]
        }
      ]
    },
    {
      "cell_type": "code",
      "source": [
        "tunedSvmPred = p.DataFrame({\"y_test\" : y_test, \"y_pred_tuned_svm\" : y_pred_tuned_svm})\n",
        "tunedSvmPred.to_csv(\"tunedSvmPred.csv\", index = False)"
      ],
      "metadata": {
        "id": "aYbUJNtYVK_j"
      },
      "execution_count": 19,
      "outputs": []
    },
    {
      "cell_type": "markdown",
      "metadata": {
        "id": "LPawKPt-5lFQ"
      },
      "source": [
        "## kNN"
      ]
    },
    {
      "cell_type": "code",
      "execution_count": 20,
      "metadata": {
        "id": "XviIj6-K5nAo"
      },
      "outputs": [],
      "source": [
        "# import knn classifier\n",
        "from sklearn.neighbors import KNeighborsRegressor\n",
        "\n",
        "# initialize a base knn model\n",
        "knn = KNeighborsRegressor()"
      ]
    },
    {
      "cell_type": "code",
      "execution_count": 21,
      "metadata": {
        "colab": {
          "base_uri": "https://localhost:8080/"
        },
        "id": "8yeNarFK5ssI",
        "outputId": "9f446887-5e82-4c0c-e890-d72847e15a6f"
      },
      "outputs": [
        {
          "output_type": "execute_result",
          "data": {
            "text/plain": [
              "KNeighborsRegressor()"
            ]
          },
          "metadata": {},
          "execution_count": 21
        }
      ],
      "source": [
        "# fit the base knn model with training data\n",
        "knn.fit(X_train, y_train)"
      ]
    },
    {
      "cell_type": "code",
      "execution_count": 22,
      "metadata": {
        "colab": {
          "base_uri": "https://localhost:8080/"
        },
        "id": "08ZAgebPKluC",
        "outputId": "c5450e60-09b2-48c3-b5c3-cf0c0c76358f"
      },
      "outputs": [
        {
          "output_type": "stream",
          "name": "stdout",
          "text": [
            "0.8858859613374672\n"
          ]
        }
      ],
      "source": [
        "# check the accuracy\n",
        "knn_accuracy = knn.score(X_test, y_test)\n",
        "print(knn_accuracy)"
      ]
    },
    {
      "cell_type": "code",
      "source": [
        "# print confusion matrix and classification report\n",
        "\n",
        "y_pred_knn = knn.predict(X_test)\n",
        "cm_knn = confusion_matrix(y_test, np.round(y_pred_knn))\n",
        "print(cm_knn)\n",
        "print()\n",
        "\n",
        "print(classification_report(y_test, np.round(y_pred_knn)))"
      ],
      "metadata": {
        "colab": {
          "base_uri": "https://localhost:8080/"
        },
        "id": "v8SVxsJMfnj0",
        "outputId": "6c21f8b5-ba75-4189-e860-e9312c31bacc"
      },
      "execution_count": 29,
      "outputs": [
        {
          "output_type": "stream",
          "name": "stdout",
          "text": [
            "[[386  17   4   1   2   3   1   0   0   0]\n",
            " [  0 472   3   1   1   0   0   1   0   0]\n",
            " [  2  15 345  31  13   6   5   3   0   0]\n",
            " [  0   5   9 360  39  19  12   1   1   0]\n",
            " [  0   3   4   6 246  77  40  16   9   3]\n",
            " [  0   0   2   7  24 324  26   2   3   0]\n",
            " [  1   2   2   3   6  19 370   1   0   0]\n",
            " [  0   3   6   2   1   9  27 402  11   4]\n",
            " [  1   3   8   2   9  24  31  63 249   3]\n",
            " [  0   1   3   2   6   4   8  18  69 275]]\n",
            "\n",
            "              precision    recall  f1-score   support\n",
            "\n",
            "           0       0.99      0.93      0.96       414\n",
            "           1       0.91      0.99      0.94       478\n",
            "           2       0.89      0.82      0.86       420\n",
            "           3       0.87      0.81      0.84       446\n",
            "           4       0.71      0.61      0.66       404\n",
            "           5       0.67      0.84      0.74       388\n",
            "           6       0.71      0.92      0.80       404\n",
            "           7       0.79      0.86      0.83       465\n",
            "           8       0.73      0.63      0.68       393\n",
            "           9       0.96      0.71      0.82       386\n",
            "\n",
            "    accuracy                           0.82      4198\n",
            "   macro avg       0.82      0.81      0.81      4198\n",
            "weighted avg       0.83      0.82      0.82      4198\n",
            "\n"
          ]
        }
      ]
    },
    {
      "cell_type": "code",
      "source": [
        "knnPred = p.DataFrame({\"y_test\" : y_test, \"y_pred_knn\" : y_pred_knn})\n",
        "knnPred.to_csv(\"knnPred.csv\", index = False)"
      ],
      "metadata": {
        "id": "UmxTDflsWHTZ"
      },
      "execution_count": 26,
      "outputs": []
    },
    {
      "cell_type": "markdown",
      "metadata": {
        "id": "oL8ZsO7ZLdsT"
      },
      "source": [
        "### Tuning the kNN model"
      ]
    },
    {
      "cell_type": "code",
      "execution_count": null,
      "metadata": {
        "colab": {
          "base_uri": "https://localhost:8080/"
        },
        "id": "ImW-YYWVMIjy",
        "outputId": "a53034b2-f78a-47be-93f7-7282be6a8448"
      },
      "outputs": [
        {
          "data": {
            "text/plain": [
              "GridSearchCV(estimator=KNeighborsRegressor(),\n",
              "             param_grid={'n_neighbors': range(1, 25)})"
            ]
          },
          "execution_count": 36,
          "metadata": {},
          "output_type": "execute_result"
        }
      ],
      "source": [
        "knn_parameters = {\"n_neighbors\": range(1, 50)}\n",
        "gridsearch = GridSearchCV(KNeighborsRegressor(), knn_parameters)\n",
        "gridsearch.fit(X_train, y_train)"
      ]
    },
    {
      "cell_type": "code",
      "execution_count": null,
      "metadata": {
        "colab": {
          "base_uri": "https://localhost:8080/"
        },
        "id": "sgu-PbszMccl",
        "outputId": "cd80ae07-c04f-49b4-a9e8-4789ed51777d"
      },
      "outputs": [
        {
          "data": {
            "text/plain": [
              "{'n_neighbors': 3}"
            ]
          },
          "execution_count": 37,
          "metadata": {},
          "output_type": "execute_result"
        }
      ],
      "source": [
        "gridsearch.best_params_"
      ]
    },
    {
      "cell_type": "code",
      "execution_count": 30,
      "metadata": {
        "id": "t9ElHnLeMeHo"
      },
      "outputs": [],
      "source": [
        "tuned_knn = KNeighborsRegressor(n_neighbors = 3)"
      ]
    },
    {
      "cell_type": "code",
      "execution_count": 31,
      "metadata": {
        "colab": {
          "base_uri": "https://localhost:8080/"
        },
        "id": "_R-55KvqQnTb",
        "outputId": "cc3244b7-cfc7-47ae-dc40-de7b2a8668ea"
      },
      "outputs": [
        {
          "output_type": "execute_result",
          "data": {
            "text/plain": [
              "KNeighborsRegressor(n_neighbors=3)"
            ]
          },
          "metadata": {},
          "execution_count": 31
        }
      ],
      "source": [
        "tuned_knn.fit(X_train, y_train)"
      ]
    },
    {
      "cell_type": "code",
      "execution_count": 32,
      "metadata": {
        "colab": {
          "base_uri": "https://localhost:8080/"
        },
        "id": "GtW_VV5WQtBq",
        "outputId": "0432e421-0d28-4dbb-a5ba-7f7f127b5eba"
      },
      "outputs": [
        {
          "output_type": "stream",
          "name": "stdout",
          "text": [
            "0.8943603383219869\n"
          ]
        }
      ],
      "source": [
        "# check the accuracy\n",
        "tuned_knn_accuracy = tuned_knn.score(X_test, y_test)\n",
        "print(tuned_knn_accuracy)"
      ]
    },
    {
      "cell_type": "code",
      "source": [
        "# print confusion matrix and classification report\n",
        "\n",
        "y_pred_tuned_knn = tuned_knn.predict(X_test)\n",
        "cm_tuned_knn = confusion_matrix(y_test, np.round(y_pred_tuned_knn))\n",
        "print(cm_tuned_knn)\n",
        "print()\n",
        "\n",
        "print(classification_report(y_test, np.round(y_pred_tuned_knn)))"
      ],
      "metadata": {
        "colab": {
          "base_uri": "https://localhost:8080/"
        },
        "id": "Z3HRmi3RgrHC",
        "outputId": "6d59c609-4301-4f24-de91-68408f056822"
      },
      "execution_count": 33,
      "outputs": [
        {
          "output_type": "stream",
          "name": "stdout",
          "text": [
            "[[401   0   6   3   2   1   1   0   0   0]\n",
            " [  0 471   4   1   1   0   0   1   0   0]\n",
            " [  3  14 364   7  21   5   3   3   0   0]\n",
            " [  1   4   9 356  36  24   9   7   0   0]\n",
            " [  0   4   2   5 298   8  53  28   2   4]\n",
            " [  0   0   3   0  38 322  21   0   2   2]\n",
            " [  1   1   3   0  12   7 379   1   0   0]\n",
            " [  0   4   0   7   2   6  15 407  21   3]\n",
            " [  1   3   2   7  11  16  40  23 285   5]\n",
            " [  1   1   1   3   3   5   7  33  36 296]]\n",
            "\n",
            "              precision    recall  f1-score   support\n",
            "\n",
            "           0       0.98      0.97      0.98       414\n",
            "           1       0.94      0.99      0.96       478\n",
            "           2       0.92      0.87      0.89       420\n",
            "           3       0.92      0.80      0.85       446\n",
            "           4       0.70      0.74      0.72       404\n",
            "           5       0.82      0.83      0.82       388\n",
            "           6       0.72      0.94      0.81       404\n",
            "           7       0.81      0.88      0.84       465\n",
            "           8       0.82      0.73      0.77       393\n",
            "           9       0.95      0.77      0.85       386\n",
            "\n",
            "    accuracy                           0.85      4198\n",
            "   macro avg       0.86      0.85      0.85      4198\n",
            "weighted avg       0.86      0.85      0.85      4198\n",
            "\n"
          ]
        }
      ]
    },
    {
      "cell_type": "markdown",
      "metadata": {
        "id": "5ogleS35Q8gf"
      },
      "source": [
        "## Random Forest"
      ]
    },
    {
      "cell_type": "code",
      "execution_count": 34,
      "metadata": {
        "colab": {
          "base_uri": "https://localhost:8080/"
        },
        "id": "7yxVQwluQ13d",
        "outputId": "a978fd1d-d4d8-494c-ec31-a261a54626f7"
      },
      "outputs": [
        {
          "output_type": "execute_result",
          "data": {
            "text/plain": [
              "RandomForestRegressor()"
            ]
          },
          "metadata": {},
          "execution_count": 34
        }
      ],
      "source": [
        "# Import the model we are using\n",
        "from sklearn.ensemble import RandomForestRegressor\n",
        "\n",
        "# Instantiate model\n",
        "rf = RandomForestRegressor()\n",
        "\n",
        "# Train the model on training data\n",
        "rf.fit(X_train, y_train)"
      ]
    },
    {
      "cell_type": "code",
      "execution_count": 35,
      "metadata": {
        "colab": {
          "base_uri": "https://localhost:8080/"
        },
        "id": "sdIpzX1pSCv4",
        "outputId": "267d30af-22a3-458f-b548-f8a3284d8c88"
      },
      "outputs": [
        {
          "output_type": "stream",
          "name": "stdout",
          "text": [
            "0.8056301474450053\n"
          ]
        }
      ],
      "source": [
        "# check the accuracy\n",
        "rf_accuracy = rf.score(X_test, y_test)\n",
        "print(rf_accuracy)"
      ]
    },
    {
      "cell_type": "code",
      "source": [
        "# print confusion matrix and classification report\n",
        "\n",
        "y_pred_rf = rf.predict(X_test)\n",
        "cm_rf = confusion_matrix(y_test, np.round(y_pred_rf))\n",
        "print(cm_rf)\n",
        "print()\n",
        "\n",
        "print(classification_report(y_test, np.round(y_pred_rf)))"
      ],
      "metadata": {
        "colab": {
          "base_uri": "https://localhost:8080/"
        },
        "id": "Te5dWFoXhaNp",
        "outputId": "1f9833f6-e8f6-4654-bf0e-1a7519843c30"
      },
      "execution_count": 36,
      "outputs": [
        {
          "output_type": "stream",
          "name": "stdout",
          "text": [
            "[[240  86  50  20   6   9   2   1   0   0]\n",
            " [  0 355  99  15   7   1   1   0   0   0]\n",
            " [  0   0 181 145  64  23   7   0   0   0]\n",
            " [  1   2   7 224 147  41  17   6   0   1]\n",
            " [  0   0   2   6 235 111  30  14   6   0]\n",
            " [  0   1   5  12  57 265  43   5   0   0]\n",
            " [  1   0   5   6  15 121 256   0   0   0]\n",
            " [  0   0   3   8  20  43  70 311  10   0]\n",
            " [  0   1   0   6  16  60 105 134  71   0]\n",
            " [  1   0   0   0   7  20  31  52 131 144]]\n",
            "\n",
            "              precision    recall  f1-score   support\n",
            "\n",
            "           0       0.99      0.58      0.73       414\n",
            "           1       0.80      0.74      0.77       478\n",
            "           2       0.51      0.43      0.47       420\n",
            "           3       0.51      0.50      0.50       446\n",
            "           4       0.41      0.58      0.48       404\n",
            "           5       0.38      0.68      0.49       388\n",
            "           6       0.46      0.63      0.53       404\n",
            "           7       0.59      0.67      0.63       465\n",
            "           8       0.33      0.18      0.23       393\n",
            "           9       0.99      0.37      0.54       386\n",
            "\n",
            "    accuracy                           0.54      4198\n",
            "   macro avg       0.60      0.54      0.54      4198\n",
            "weighted avg       0.60      0.54      0.54      4198\n",
            "\n"
          ]
        }
      ]
    },
    {
      "cell_type": "markdown",
      "metadata": {
        "id": "u-cpaaDaSUp8"
      },
      "source": [
        "### tuning the random forest model"
      ]
    },
    {
      "cell_type": "code",
      "execution_count": null,
      "metadata": {
        "colab": {
          "background_save": true
        },
        "id": "UdIYa33MSSkC",
        "outputId": "ca89bad4-046d-477a-b32e-a0b4e6477bfb"
      },
      "outputs": [
        {
          "name": "stderr",
          "output_type": "stream",
          "text": [
            "/usr/local/lib/python3.7/dist-packages/sklearn/model_selection/_validation.py:372: FitFailedWarning: \n",
            "5 fits failed out of a total of 50.\n",
            "The score on these train-test partitions for these parameters will be set to nan.\n",
            "If these failures are not expected, you can try to debug them by setting error_score='raise'.\n",
            "\n",
            "Below are more details about the failures:\n",
            "--------------------------------------------------------------------------------\n",
            "5 fits failed with the following error:\n",
            "Traceback (most recent call last):\n",
            "  File \"/usr/local/lib/python3.7/dist-packages/sklearn/model_selection/_validation.py\", line 680, in _fit_and_score\n",
            "    estimator.fit(X_train, y_train, **fit_params)\n",
            "  File \"/usr/local/lib/python3.7/dist-packages/sklearn/ensemble/_forest.py\", line 392, in fit\n",
            "    self._validate_estimator()\n",
            "  File \"/usr/local/lib/python3.7/dist-packages/sklearn/ensemble/_base.py\", line 140, in _validate_estimator\n",
            "    self.n_estimators\n",
            "ValueError: n_estimators must be greater than zero, got 0.\n",
            "\n",
            "  warnings.warn(some_fits_failed_message, FitFailedWarning)\n",
            "/usr/local/lib/python3.7/dist-packages/sklearn/model_selection/_search.py:972: UserWarning: One or more of the test scores are non-finite: [       nan 0.76951754 0.7741368  0.7741025  0.77637403 0.77572478\n",
            " 0.77514907 0.77621624 0.77678909 0.77649282]\n",
            "  category=UserWarning,\n"
          ]
        },
        {
          "data": {
            "text/plain": [
              "GridSearchCV(estimator=RandomForestRegressor(),\n",
              "             param_grid={'n_estimators': range(0, 1000, 100)})"
            ]
          },
          "execution_count": 11,
          "metadata": {},
          "output_type": "execute_result"
        }
      ],
      "source": [
        "rf_parameters = {\"n_estimators\": range(0, 1000, 100)}\n",
        "rf_gridsearch = GridSearchCV(RandomForestRegressor(), rf_parameters)\n",
        "rf_gridsearch.fit(X_train, y_train)"
      ]
    },
    {
      "cell_type": "code",
      "execution_count": null,
      "metadata": {
        "colab": {
          "background_save": true
        },
        "id": "-WucvKekTYAN",
        "outputId": "94bd428c-bc0a-423a-aa44-da4d1c174067"
      },
      "outputs": [
        {
          "data": {
            "text/plain": [
              "{'n_estimators': 800}"
            ]
          },
          "execution_count": 12,
          "metadata": {},
          "output_type": "execute_result"
        }
      ],
      "source": [
        "rf_gridsearch.best_params_"
      ]
    },
    {
      "cell_type": "code",
      "execution_count": 37,
      "metadata": {
        "id": "0QWzwCqLTfPN",
        "colab": {
          "base_uri": "https://localhost:8080/"
        },
        "outputId": "d3636e05-29b4-46a8-eac1-73ddb2ea3082"
      },
      "outputs": [
        {
          "output_type": "execute_result",
          "data": {
            "text/plain": [
              "RandomForestRegressor(n_estimators=800, random_state=2022)"
            ]
          },
          "metadata": {},
          "execution_count": 37
        }
      ],
      "source": [
        "# initiate the tuned rf model\n",
        "tuned_rf = RandomForestRegressor(n_estimators = 800, random_state = 2022)\n",
        "\n",
        "# Train the model on training data\n",
        "tuned_rf.fit(X_train, y_train)"
      ]
    },
    {
      "cell_type": "code",
      "source": [
        "# check the accuracy\n",
        "tuned_rf_accuracy = tuned_rf.score(X_test, y_test)\n",
        "print(tuned_rf_accuracy)"
      ],
      "metadata": {
        "colab": {
          "base_uri": "https://localhost:8080/"
        },
        "id": "M5UaH8cjCuoJ",
        "outputId": "809ae9e6-8a7d-44b9-8e51-2f63a8e7fe54"
      },
      "execution_count": 38,
      "outputs": [
        {
          "output_type": "stream",
          "name": "stdout",
          "text": [
            "0.8081019134445595\n"
          ]
        }
      ]
    },
    {
      "cell_type": "code",
      "source": [
        "# print confusion matrix and classification report\n",
        "\n",
        "y_pred_tuned_rf = tuned_rf.predict(X_test)\n",
        "cm_tuned_rf = confusion_matrix(y_test, np.round(y_pred_tuned_rf))\n",
        "print(cm_tuned_rf)\n",
        "print()\n",
        "\n",
        "print(classification_report(y_test, np.round(y_pred_tuned_rf)))"
      ],
      "metadata": {
        "colab": {
          "base_uri": "https://localhost:8080/"
        },
        "id": "9MoBOw-7X0n9",
        "outputId": "ed5c79bb-d517-4cbf-828c-eeb71fd65aa3"
      },
      "execution_count": 39,
      "outputs": [
        {
          "output_type": "stream",
          "name": "stdout",
          "text": [
            "[[229  98  52  17   8   6   3   1   0   0]\n",
            " [  0 356  94  19   7   0   2   0   0   0]\n",
            " [  0   1 184 140  66  20   9   0   0   0]\n",
            " [  0   2   7 230 143  41  17   4   1   1]\n",
            " [  0   0   2   4 230 117  30  16   5   0]\n",
            " [  0   1   4  10  58 276  34   5   0   0]\n",
            " [  1   0   3   8  16 116 260   0   0   0]\n",
            " [  0   0   3   9  13  48  69 316   7   0]\n",
            " [  0   0   1   5  16  65  96 139  71   0]\n",
            " [  1   0   0   0   5  24  31  49 133 143]]\n",
            "\n",
            "              precision    recall  f1-score   support\n",
            "\n",
            "           0       0.99      0.55      0.71       414\n",
            "           1       0.78      0.74      0.76       478\n",
            "           2       0.53      0.44      0.48       420\n",
            "           3       0.52      0.52      0.52       446\n",
            "           4       0.41      0.57      0.48       404\n",
            "           5       0.39      0.71      0.50       388\n",
            "           6       0.47      0.64      0.54       404\n",
            "           7       0.60      0.68      0.64       465\n",
            "           8       0.33      0.18      0.23       393\n",
            "           9       0.99      0.37      0.54       386\n",
            "\n",
            "    accuracy                           0.55      4198\n",
            "   macro avg       0.60      0.54      0.54      4198\n",
            "weighted avg       0.60      0.55      0.55      4198\n",
            "\n"
          ]
        }
      ]
    }
  ],
  "metadata": {
    "accelerator": "GPU",
    "colab": {
      "provenance": [],
      "collapsed_sections": []
    },
    "gpuClass": "standard",
    "kernelspec": {
      "display_name": "Python 3",
      "name": "python3"
    },
    "language_info": {
      "name": "python"
    }
  },
  "nbformat": 4,
  "nbformat_minor": 0
}